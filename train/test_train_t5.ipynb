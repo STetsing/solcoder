{
 "cells": [
  {
   "cell_type": "code",
   "execution_count": 1,
   "metadata": {},
   "outputs": [
    {
     "name": "stderr",
     "output_type": "stream",
     "text": [
      "/Users/pippertetsing/miniforge3m1/envs/llm_env/lib/python3.10/site-packages/tqdm/auto.py:21: TqdmWarning: IProgress not found. Please update jupyter and ipywidgets. See https://ipywidgets.readthedocs.io/en/stable/user_install.html\n",
      "  from .autonotebook import tqdm as notebook_tqdm\n"
     ]
    }
   ],
   "source": [
    "import datasets\n",
    "import torch \n",
    "import numpy as np\n",
    "import pandas as pd\n",
    "import evaluate\n",
    "from datasets import Dataset\n",
    "from tqdm import tqdm\n",
    "from transformers import RobertaTokenizer, Seq2SeqTrainingArguments, Seq2SeqTrainer, AutoTokenizer, DataCollatorForSeq2Seq\n",
    "\n"
   ]
  },
  {
   "cell_type": "code",
   "execution_count": 3,
   "metadata": {},
   "outputs": [],
   "source": [
    "etric = evaluate.load('rouge')\n",
    "\n",
    "data_path = '../filtered_comment_code_sol.pkl'\n",
    "df = pd.read_pickle(data_path)[:100]\n",
    "dataset = Dataset.from_pandas(df)\n",
    "\n",
    "base_model = \"Salesforce/codet5-base\"\n",
    "sol_tok_model = \"Pipper/finetuned_sol\"\n",
    "tokenizer = RobertaTokenizer.from_pretrained(base_model)\n"
   ]
  },
  {
   "cell_type": "code",
   "execution_count": 21,
   "metadata": {},
   "outputs": [
    {
     "name": "stderr",
     "output_type": "stream",
     "text": [
      "                                                                \r"
     ]
    }
   ],
   "source": [
    "\n",
    "max_input_length = 256\n",
    "max_target_length = 128\n",
    "prefix = \"Generate Solidity: \"\n",
    "def process_samples(samples):\n",
    "    codes = samples['code_string']\n",
    "    comments = samples['comments']\n",
    "\n",
    "    inputs = [prefix + cm for cm in comments]\n",
    "    model_inputs = tokenizer(inputs, max_length=max_input_length, padding=\"max_length\", truncation=True)\n",
    "\n",
    "    # encode the summaries\n",
    "    labels = tokenizer(codes, max_length=max_target_length, padding=\"max_length\", truncation=False).input_ids\n",
    "\n",
    "    # important: we need to replace the index of the padding tokens by -100\n",
    "    # such that they are not taken into account by the CrossEntropyLoss\n",
    "    labels_with_ignore_index = []\n",
    "    for labels_example in labels:\n",
    "        labels_example = [label if label != 0 else -100 for label in labels_example]\n",
    "        labels_with_ignore_index.append(labels_example)\n",
    "    \n",
    "    model_inputs[\"labels\"] = labels_with_ignore_index\n",
    "    return model_inputs\n",
    "\n",
    "dataset = dataset.map(process_samples, batched=True, num_proc=5)"
   ]
  },
  {
   "cell_type": "code",
   "execution_count": 22,
   "metadata": {},
   "outputs": [
    {
     "name": "stdout",
     "output_type": "stream",
     "text": [
      "<s>contract DumplingERC721 is ERC721, Ownable, PricingCalculator {\n",
      "\n",
      "\n",
      "    uint public constant MAX_DUMPLINGS = 2500;\n",
      "    bool public hasSaleStarted = true;\n",
      "\n",
      "    string public constant R = \"We are nervous. Are you?\";\n",
      "\n",
      "pragma solidity ^0.7.4;\n",
      "    constructor (string memory name, string memory symbol, string memory baseURI) public ERC721(name, symbol){\n",
      "        _setBaseURI(baseURI);\n",
      "    }\n",
      "\n",
      "    function setBaseURI(string memory baseURI) public onlyOwner {\n",
      "        _setBaseURI(baseURI);\n",
      "    }\n",
      "    function calculatePrice() public view returns (uint256) {\n",
      "        require(hasSaleStarted == true, \"Sale hasn't started\");\n",
      "        require(totalSupply() < MAX_DUMPLINGS, \"No more dumplings\");\n",
      "\n",
      "        uint currentSupply = totalSupply();\n",
      "\n",
      "        uint currentPrice =  priceCalculator(currentSupply);\n",
      "        return currentPrice;\n",
      "\n",
      "    }\n",
      "\n",
      "    function calculatePriceForToken(uint _id) public view returns (uint256) {\n",
      "        require(_id < MAX_DUMPLINGS, \"Sale has already ended\");\n",
      "\n",
      "        uint currentPrice = priceCalculator(_id);\n",
      "        return currentPrice;\n",
      "    }\n",
      "    function startSale() public onlyOwner {\n",
      "        hasSaleStarted = true;\n",
      "    }\n",
      "    \n",
      "    function pauseSale() public onlyOwner {\n",
      "        hasSaleStarted = false;\n",
      "    }\n",
      "\n",
      "    function withdraw() onlyOwner public {\n",
      "        uint balance = address(this).balance;\n",
      "        msg.sender.transfer(balance);\n",
      "    }\n",
      "\n",
      "    function steamDumplings(uint256 numDumplings) public payable {\n",
      "        require(SafeMath.add(totalSupply(), 1) <= MAX_DUMPLINGS, \"Exceeds maximum dumpling supply.\");\n",
      "        require(numDumplings > 0 && numDumplings <= 12, \"You can steam minimum 1, maximum 12 dumpling pets\");\n",
      "        require(msg.value >= SafeMath.mul(calculatePrice(), numDumplings), \"Oh No. No dumplings for you. Amount of Ether sent is not correct.\");\n",
      "        \n",
      "        for (uint i = 0; i < numDumplings; i++) {\n",
      "            uint mintIndex = totalSupply();\n",
      "            _safeMint(msg.sender, mintIndex);\n",
      "        }\n",
      "        \n",
      "    }\n",
      "    function steamDumplings(uint256 numDumplings) public payable {\n",
      "        require(SafeMath.add(totalSupply(), 1) <= MAX_DUMPLINGS, \"Exceeds maximum dumpling supply.\");\n",
      "        require(numDumplings > 0 && numDumplings <= 12, \"You can steam minimum 1, maximum 12 dumpling pets\");\n",
      "        require(msg.value >= SafeMath.mul(calculatePrice(), numDumplings), \"Oh No. No dumplings for you. Amount of Ether sent is not correct.\");\n",
      "        \n",
      "        for (uint i = 0; i < numDumplings; i++) {\n",
      "            uint mintIndex = totalSupply();\n",
      "            _safeMint(msg.sender, mintIndex);\n",
      "        }\n",
      "        \n",
      "    }\n",
      "}\n",
      "</s>\n"
     ]
    }
   ],
   "source": [
    "\n",
    "com = dataset[0]['input_ids']\n",
    "cod = labels = dataset[0]['labels']\n",
    "print(tokenizer.decode([label for label in labels if label != -100]))"
   ]
  },
  {
   "cell_type": "code",
   "execution_count": 9,
   "metadata": {},
   "outputs": [],
   "source": [
    "cod = labels = dataset[0]['labels']\n"
   ]
  },
  {
   "cell_type": "code",
   "execution_count": null,
   "metadata": {},
   "outputs": [],
   "source": []
  }
 ],
 "metadata": {
  "kernelspec": {
   "display_name": "llm_env",
   "language": "python",
   "name": "python3"
  },
  "language_info": {
   "codemirror_mode": {
    "name": "ipython",
    "version": 3
   },
   "file_extension": ".py",
   "mimetype": "text/x-python",
   "name": "python",
   "nbconvert_exporter": "python",
   "pygments_lexer": "ipython3",
   "version": "3.10.12"
  }
 },
 "nbformat": 4,
 "nbformat_minor": 2
}
