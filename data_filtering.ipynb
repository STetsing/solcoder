{
 "cells": [
  {
   "cell_type": "code",
   "execution_count": 1,
   "metadata": {},
   "outputs": [],
   "source": [
    "import pandas as pd\n",
    "\n",
    "data_path = './comment_code_sol.pkl'\n"
   ]
  },
  {
   "cell_type": "code",
   "execution_count": 2,
   "metadata": {},
   "outputs": [],
   "source": [
    "dataset = pd.read_pickle(data_path)"
   ]
  },
  {
   "cell_type": "code",
   "execution_count": 5,
   "metadata": {},
   "outputs": [
    {
     "name": "stdout",
     "output_type": "stream",
     "text": [
      "INFO: Original dataset length: 17211242\n",
      "INFO: dataset length after code length refinment: 13728139\n",
      "INFO: dataset length after comment length refinment: 12650850\n"
     ]
    }
   ],
   "source": [
    "# drop all code and comment value not longer as 20 characters\n",
    "print(\"INFO: Original dataset length:\", len(dataset))\n",
    "\n",
    "dataset=dataset[dataset['code_string'].str.len() >= 20]\n",
    "print(\"INFO: dataset length after code length refinment:\", len(dataset))\n",
    "\n",
    "dataset=dataset[dataset['comments'].str.len() >= 20]\n",
    "print(\"INFO: dataset length after comment length refinment:\", len(dataset))\n"
   ]
  },
  {
   "cell_type": "code",
   "execution_count": 26,
   "metadata": {},
   "outputs": [
    {
     "name": "stdout",
     "output_type": "stream",
     "text": [
      "INFO: dataset length after marker processing: 12332748\n"
     ]
    }
   ],
   "source": [
    "# remove lines with no code\n",
    "def hasMarker(code):\n",
    "    if ';' in code:\n",
    "        return True\n",
    "    \n",
    "    elif '}' in code:\n",
    "        return True\n",
    "    \n",
    "    elif '{' in code:\n",
    "        return True\n",
    "    \n",
    "    elif ';' in code:\n",
    "        return True\n",
    "    else:\n",
    "        return False\n",
    "\n",
    "dataset=dataset[dataset['code_string'].apply(lambda x: hasMarker(x))]\n",
    "print(\"INFO: dataset length after marker processing:\", len(dataset))\n",
    " \n",
    "    "
   ]
  },
  {
   "cell_type": "code",
   "execution_count": 35,
   "metadata": {},
   "outputs": [
    {
     "name": "stdout",
     "output_type": "stream",
     "text": [
      "INFO: dataset length after dropping duplicates: 1359405\n"
     ]
    }
   ],
   "source": [
    "# Drop duplicate on code value\n",
    "dataset = dataset.drop_duplicates(subset=['code_string'], keep='first')\n",
    "print(\"INFO: dataset length after dropping duplicates:\", len(dataset))\n"
   ]
  },
  {
   "cell_type": "code",
   "execution_count": 6,
   "metadata": {},
   "outputs": [
    {
     "data": {
      "text/html": [
       "<div>\n",
       "<style scoped>\n",
       "    .dataframe tbody tr th:only-of-type {\n",
       "        vertical-align: middle;\n",
       "    }\n",
       "\n",
       "    .dataframe tbody tr th {\n",
       "        vertical-align: top;\n",
       "    }\n",
       "\n",
       "    .dataframe thead th {\n",
       "        text-align: right;\n",
       "    }\n",
       "</style>\n",
       "<table border=\"1\" class=\"dataframe\">\n",
       "  <thead>\n",
       "    <tr style=\"text-align: right;\">\n",
       "      <th></th>\n",
       "      <th>file_name</th>\n",
       "      <th>comments</th>\n",
       "      <th>code_string</th>\n",
       "    </tr>\n",
       "  </thead>\n",
       "  <tbody>\n",
       "    <tr>\n",
       "      <th>0</th>\n",
       "      <td>// SPDX-License-Identifier: MIT\\npragma solidi...</td>\n",
       "      <td>Inspired by PIXL and Chubbies.</td>\n",
       "      <td>contract DumplingERC721 is ERC721, Ownable, Pr...</td>\n",
       "    </tr>\n",
       "    <tr>\n",
       "      <th>1</th>\n",
       "      <td>// SPDX-License-Identifier: MIT\\npragma solidi...</td>\n",
       "      <td>SPDX-License-Identifier: MIT</td>\n",
       "      <td>pragma solidity ^0.7.4;\\n</td>\n",
       "    </tr>\n",
       "    <tr>\n",
       "      <th>2</th>\n",
       "      <td>// SPDX-License-Identifier: MIT\\npragma solidi...</td>\n",
       "      <td>* @dev Withdraw ether from this contract (Call...</td>\n",
       "      <td>function withdraw() onlyOwner public {\\n  ...</td>\n",
       "    </tr>\n",
       "    <tr>\n",
       "      <th>3</th>\n",
       "      <td>// SPDX-License-Identifier: MIT\\npragma solidi...</td>\n",
       "      <td>_setTokenURI(newTokenId, Strings.toString(new...</td>\n",
       "      <td>function steamDumplings(uint256 numDumplin...</td>\n",
       "    </tr>\n",
       "    <tr>\n",
       "      <th>4</th>\n",
       "      <td>// SPDX-License-Identifier: MIT\\npragma solidi...</td>\n",
       "      <td>_setTokenURI(newTokenId, Strings.toString(new...</td>\n",
       "      <td>function steamDumplings(uint256 numDumplin...</td>\n",
       "    </tr>\n",
       "    <tr>\n",
       "      <th>...</th>\n",
       "      <td>...</td>\n",
       "      <td>...</td>\n",
       "      <td>...</td>\n",
       "    </tr>\n",
       "    <tr>\n",
       "      <th>17211237</th>\n",
       "      <td>./partial_match/77/0x925aFFbA0902cC94d103a1CF5...</td>\n",
       "      <td>* @dev Give your vote (including votes delegat...</td>\n",
       "      <td>function vote(uint proposal) public {\\n   ...</td>\n",
       "    </tr>\n",
       "    <tr>\n",
       "      <th>17211238</th>\n",
       "      <td>./partial_match/77/0x925aFFbA0902cC94d103a1CF5...</td>\n",
       "      <td>* @dev Computes the winning proposal taking al...</td>\n",
       "      <td>function winningProposal() public view\\n  ...</td>\n",
       "    </tr>\n",
       "    <tr>\n",
       "      <th>17211239</th>\n",
       "      <td>./partial_match/77/0x925aFFbA0902cC94d103a1CF5...</td>\n",
       "      <td>* @dev Computes the winning proposal taking al...</td>\n",
       "      <td>function winningProposal() public view\\n  ...</td>\n",
       "    </tr>\n",
       "    <tr>\n",
       "      <th>17211240</th>\n",
       "      <td>./partial_match/77/0x925aFFbA0902cC94d103a1CF5...</td>\n",
       "      <td>* @dev Computes the winning proposal taking al...</td>\n",
       "      <td>function winningProposal() public view\\n  ...</td>\n",
       "    </tr>\n",
       "    <tr>\n",
       "      <th>17211241</th>\n",
       "      <td>./partial_match/77/0x925aFFbA0902cC94d103a1CF5...</td>\n",
       "      <td>* @dev Calls winningProposal() function to get...</td>\n",
       "      <td>function winnerName() public view\\n       ...</td>\n",
       "    </tr>\n",
       "  </tbody>\n",
       "</table>\n",
       "<p>12650850 rows × 3 columns</p>\n",
       "</div>"
      ],
      "text/plain": [
       "                                                  file_name  \\\n",
       "0         // SPDX-License-Identifier: MIT\\npragma solidi...   \n",
       "1         // SPDX-License-Identifier: MIT\\npragma solidi...   \n",
       "2         // SPDX-License-Identifier: MIT\\npragma solidi...   \n",
       "3         // SPDX-License-Identifier: MIT\\npragma solidi...   \n",
       "4         // SPDX-License-Identifier: MIT\\npragma solidi...   \n",
       "...                                                     ...   \n",
       "17211237  ./partial_match/77/0x925aFFbA0902cC94d103a1CF5...   \n",
       "17211238  ./partial_match/77/0x925aFFbA0902cC94d103a1CF5...   \n",
       "17211239  ./partial_match/77/0x925aFFbA0902cC94d103a1CF5...   \n",
       "17211240  ./partial_match/77/0x925aFFbA0902cC94d103a1CF5...   \n",
       "17211241  ./partial_match/77/0x925aFFbA0902cC94d103a1CF5...   \n",
       "\n",
       "                                                   comments  \\\n",
       "0                            Inspired by PIXL and Chubbies.   \n",
       "1                              SPDX-License-Identifier: MIT   \n",
       "2         * @dev Withdraw ether from this contract (Call...   \n",
       "3          _setTokenURI(newTokenId, Strings.toString(new...   \n",
       "4          _setTokenURI(newTokenId, Strings.toString(new...   \n",
       "...                                                     ...   \n",
       "17211237  * @dev Give your vote (including votes delegat...   \n",
       "17211238  * @dev Computes the winning proposal taking al...   \n",
       "17211239  * @dev Computes the winning proposal taking al...   \n",
       "17211240  * @dev Computes the winning proposal taking al...   \n",
       "17211241  * @dev Calls winningProposal() function to get...   \n",
       "\n",
       "                                                code_string  \n",
       "0         contract DumplingERC721 is ERC721, Ownable, Pr...  \n",
       "1                                 pragma solidity ^0.7.4;\\n  \n",
       "2             function withdraw() onlyOwner public {\\n  ...  \n",
       "3             function steamDumplings(uint256 numDumplin...  \n",
       "4             function steamDumplings(uint256 numDumplin...  \n",
       "...                                                     ...  \n",
       "17211237      function vote(uint proposal) public {\\n   ...  \n",
       "17211238      function winningProposal() public view\\n  ...  \n",
       "17211239      function winningProposal() public view\\n  ...  \n",
       "17211240      function winningProposal() public view\\n  ...  \n",
       "17211241      function winnerName() public view\\n       ...  \n",
       "\n",
       "[12650850 rows x 3 columns]"
      ]
     },
     "execution_count": 6,
     "metadata": {},
     "output_type": "execute_result"
    }
   ],
   "source": [
    "dataset"
   ]
  },
  {
   "cell_type": "code",
   "execution_count": 49,
   "metadata": {},
   "outputs": [
    {
     "name": "stdout",
     "output_type": "stream",
     "text": [
      "* @dev See {IERC721-balanceOf}./\n",
      "----------------------------------------------------------------------------------------------------\n",
      "    function balanceOf(address owner) public view override returns (uint256) {\n",
      "        require(owner != address(0), \"ERC721: balance query for the zero address\");\n",
      "\n",
      "        return _holderTokens[owner].length();\n",
      "    }\n",
      "\n",
      "\n"
     ]
    }
   ],
   "source": [
    "i = 6\n",
    "print(dataset.comments.iloc[i])\n",
    "print('-'*100)\n",
    "print(dataset.code_string.iloc[i])"
   ]
  },
  {
   "cell_type": "code",
   "execution_count": 41,
   "metadata": {},
   "outputs": [],
   "source": [
    "dataset.to_pickle('./filtered_comment_code_sol.pkl')"
   ]
  },
  {
   "cell_type": "code",
   "execution_count": null,
   "metadata": {},
   "outputs": [],
   "source": []
  }
 ],
 "metadata": {
  "kernelspec": {
   "display_name": "llm_env",
   "language": "python",
   "name": "python3"
  },
  "language_info": {
   "codemirror_mode": {
    "name": "ipython",
    "version": 3
   },
   "file_extension": ".py",
   "mimetype": "text/x-python",
   "name": "python",
   "nbconvert_exporter": "python",
   "pygments_lexer": "ipython3",
   "version": "3.10.12"
  }
 },
 "nbformat": 4,
 "nbformat_minor": 2
}
